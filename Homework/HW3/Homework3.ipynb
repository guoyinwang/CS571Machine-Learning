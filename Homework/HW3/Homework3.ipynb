{
 "cells": [
  {
   "cell_type": "code",
   "execution_count": null,
   "metadata": {
    "collapsed": false
   },
   "outputs": [],
   "source": [
    "%matplotlib inline\n",
    "\n",
    "import pandas as pd\n",
    "import numpy as np\n",
    "from matplotlib import pyplot as plt\n",
    "from sklearn.linear_model import LogisticRegression\n",
    "from sklearn.svm import SVC\n",
    "from sklearn.tree import DecisionTreeClassifier\n",
    "from sklearn.ensemble import RandomForestClassifier, GradientBoostingClassifier\n",
    "from sklearn.cross_validation import train_test_split\n",
    "from sklearn.metrics import roc_curve, roc_auc_score"
   ]
  },
  {
   "cell_type": "code",
   "execution_count": null,
   "metadata": {
    "collapsed": false
   },
   "outputs": [],
   "source": [
    "# load data\n",
    "banknote_data = pd.read_csv(\"data_banknote_authentication.txt\", header = None, \\\n",
    "                            names = ['variance', 'skewness','curtosis','entropy','class'])"
   ]
  },
  {
   "cell_type": "code",
   "execution_count": null,
   "metadata": {
    "collapsed": false
   },
   "outputs": [],
   "source": [
    "banknote_data['entropy'] =  -banknote_data['entropy']\n",
    "banknote_data['variance'] = - banknote_data['variance']\n",
    "banknote_data['skewness'] = - banknote_data['skewness']\n",
    "banknote_data['curtosis'] = - banknote_data['curtosis']"
   ]
  },
  {
   "cell_type": "code",
   "execution_count": null,
   "metadata": {
    "collapsed": false
   },
   "outputs": [],
   "source": [
    "banknote_data['entropy']"
   ]
  },
  {
   "cell_type": "code",
   "execution_count": null,
   "metadata": {
    "collapsed": false
   },
   "outputs": [],
   "source": [
    "# shuffle data\n",
    "new_index = np.arange(len(banknote_data))\n",
    "np.random.shuffle(new_index)\n",
    "banknote_data_shuffled = banknote_data.reindex(new_index)\n",
    "banknote_data_shuffled.reset_index(drop=True)\n",
    "banknote_data_shuffled.head()"
   ]
  },
  {
   "cell_type": "code",
   "execution_count": null,
   "metadata": {
    "collapsed": false
   },
   "outputs": [],
   "source": [
    "# split feature and label\n",
    "banknote_features = banknote_data_shuffled.iloc[:,0:4]\n",
    "banknote_target = banknote_data_shuffled.iloc[:,4]"
   ]
  },
  {
   "cell_type": "code",
   "execution_count": null,
   "metadata": {
    "collapsed": false
   },
   "outputs": [],
   "source": [
    "feature_list = list(banknote_features.columns)\n",
    "print feature_list\n",
    "model_name_list = ['Decision Tree', 'Random Forest', \\\n",
    "                   'Gradient Boosted', 'Logistic Regression', 'SVM']\n",
    "# DECISION TREE\n",
    "dt = DecisionTreeClassifier()\n",
    "# RANDOM FOREST\n",
    "rf = RandomForestClassifier()\n",
    "# GRADIENT BOOSTED TREES\n",
    "gb = GradientBoostingClassifier()\n",
    "# LOGISTIC REGRESSION\n",
    "lr = LogisticRegression()\n",
    "# SUPPORT VECTOR MACHINE\n",
    "sv = SVC(probability=True, kernel='linear', C =0.5)\n",
    "model_list = [dt, rf, gb, lr, sv]\n",
    "\n",
    "\n"
   ]
  },
  {
   "cell_type": "code",
   "execution_count": null,
   "metadata": {
    "collapsed": true
   },
   "outputs": [],
   "source": [
    "# split data for every fold\n",
    "def split_by_folds(features, target, number, total_folds = 10):\n",
    "    start_number = int(number * len(features) / 10)\n",
    "    end_number = int((number + 1) * len(features)/10)\n",
    "    test_features = features.iloc[start_number:end_number,:]\n",
    "    test_target = target.iloc[start_number:end_number]\n",
    "    train_features = features.iloc[range(start_number) +\\\n",
    "                                   range(end_number, len(features)),:]\n",
    "    train_target = target.iloc[range(start_number) + range(end_number, len(features))]\n",
    "    return test_features, test_target, train_features, train_target\n",
    "    "
   ]
  },
  {
   "cell_type": "code",
   "execution_count": null,
   "metadata": {
    "collapsed": true
   },
   "outputs": [],
   "source": [
    "def cross_viladition(model_list, features, target, \\\n",
    "                     model_name_list = model_name_list, total_folds = 10,\\\n",
    "                     feature_list=feature_list):\n",
    "    auc = np.zeros((total_folds,len(model_list)))\n",
    "    for i in range(total_folds):\n",
    "        test_features, test_target,train_features, train_target \\\n",
    "        = split_by_folds(features, target, i)\n",
    "        print(len(test_features))\n",
    "        print(len(test_target))\n",
    "        print(len(train_features))\n",
    "        print(len(train_target))\n",
    "        for j,jmodel in enumerate(model_list):\n",
    "            jmodel.fit(train_features, train_target)\n",
    "            hard_predict = jmodel.predict(test_features)\n",
    "            acc = np.isclose(hard_predict, test_target).sum() / float(len(test_target))\n",
    "            print(\"ACC from model {} of test fold {} is \\\n",
    "            {}\".format(model_name_list[j], i, acc))\n",
    "        \n",
    "            # use predicted probabilities to construct ROC curve and AUC score\n",
    "            soft_predict = jmodel.predict_proba(test_features)\n",
    "#             print(soft_predict[:5,1])\n",
    "            fpr,tpr,thresh = roc_curve(test_target, soft_predict[:,1], pos_label=1)\n",
    "            auc[i,j] = roc_auc_score(test_target, soft_predict[:,1])\n",
    "            print(\"AUC from model {} of test fold {} \\\n",
    "            is {}\".format(model_name_list[j], i, auc[i,j]))\n",
    "            plt.plot(fpr,tpr, '-v', label = model_name_list[j])\n",
    "        for ifeature in feature_list:\n",
    "            fpr, tpr, thresh = roc_curve(test_target, test_features[ifeature])\n",
    "            plt.plot(fpr,tpr, '-o', label = ifeature)\n",
    "        plt.plot([0,1], [0,1], 'r--', alpha = .5)\n",
    "        plt.legend(bbox_to_anchor=(1.05, 1), loc=2)\n",
    "        axes = plt.gca()\n",
    "        axes.set_xlim([-0.1,1.1])\n",
    "        axes.set_ylim([-0.1,1.1])\n",
    "        plt.xlabel('fpr')\n",
    "        plt.ylabel('tpr')\n",
    "        plt.savefig(\"fold {}\".format(i), bbox_inches='tight')\n",
    "        plt.show()\n",
    "        \n",
    "    return auc"
   ]
  },
  {
   "cell_type": "code",
   "execution_count": null,
   "metadata": {
    "collapsed": false
   },
   "outputs": [],
   "source": [
    "auc = cross_viladition(model_list, banknote_features, banknote_target)"
   ]
  },
  {
   "cell_type": "code",
   "execution_count": null,
   "metadata": {
    "collapsed": false
   },
   "outputs": [],
   "source": [
    "cross_viladition(model_list, banknote_features[['curtosis', 'variance']], \\\n",
    "                 banknote_target, feature_list=['curtosis', 'variance'])"
   ]
  },
  {
   "cell_type": "code",
   "execution_count": null,
   "metadata": {
    "collapsed": true
   },
   "outputs": [],
   "source": [
    "def nested_cross_viladition(model, features, target, C= [ 1.0,0.5,0.1,0.01,0.001],\\\n",
    "                            total_folds = 10, feature_list=feature_list):\n",
    "    auc = np.zeros((total_folds))\n",
    "    for i in range(total_folds):\n",
    "        test_features, test_target,train_features, train_target  = \\\n",
    "        split_by_folds(features, target, i)\n",
    "        \n",
    "        best_acc = 0\n",
    "        best_C = 0\n",
    "        for j, jc in enumerate(C):\n",
    "            local_acc = np.zeros((total_folds-1,))\n",
    "            for k in range(total_folds - 1):\n",
    "                local_test_features, local_test_target,local_train_features, local_train_target  \\\n",
    "                = split_by_folds(train_features, train_target, k, total_folds=total_folds-1)\n",
    "                model.C = jc\n",
    "                model.fit(local_train_features, local_train_target)\n",
    "                hard_predict = model.predict(local_test_features)\n",
    "                local_acc[k] = np.isclose(hard_predict, \\\n",
    "                                          local_test_target).sum() / float(len(local_test_target))\n",
    "                print(\"ACC of {} of test fold {} is {}\".format(jc, k, local_acc[k]))\n",
    "            if local_acc.mean() > best_acc:\n",
    "                best_acc = local_acc.mean()\n",
    "                best_C = jc\n",
    "        print(\"best C is {}, and best acc is {}\".format(best_C,best_acc))    \n",
    "        # use predicted probabilities to construct ROC curve and AUC score\n",
    "        model.C = best_C\n",
    "        model.fit(train_features,train_target)\n",
    "        soft_predict = model.predict_proba(test_features)\n",
    "        auc[i] = roc_auc_score(test_target, soft_predict[:,1])\n",
    "        print(\"AUC of test fold {} is {}\".format( i, auc[i]))   \n",
    "        \n",
    "        \n",
    "    return auc, best_C"
   ]
  },
  {
   "cell_type": "code",
   "execution_count": null,
   "metadata": {
    "collapsed": false
   },
   "outputs": [],
   "source": [
    "nested_cross_viladition(lr, banknote_features, banknote_target)"
   ]
  },
  {
   "cell_type": "code",
   "execution_count": null,
   "metadata": {
    "collapsed": false
   },
   "outputs": [],
   "source": [
    "nested_cross_viladition(sv, banknote_features, banknote_target)"
   ]
  },
  {
   "cell_type": "code",
   "execution_count": null,
   "metadata": {
    "collapsed": true
   },
   "outputs": [],
   "source": [
    "# derive mean and variance of auc\n",
    "def mean_variance_auc(auc, model_name_list=model_name_list):\n",
    "    for i, imodel in enumerate(model_name_list):\n",
    "        imean = auc[:,i].mean()\n",
    "        ivar = auc[:,i].var()\n",
    "        print( \"mean and variance of model {} is {}, {}\".format(imodel, imean,ivar))"
   ]
  },
  {
   "cell_type": "code",
   "execution_count": null,
   "metadata": {
    "collapsed": false
   },
   "outputs": [],
   "source": [
    "mean_variance_auc(auc)"
   ]
  },
  {
   "cell_type": "code",
   "execution_count": null,
   "metadata": {
    "collapsed": false
   },
   "outputs": [],
   "source": [
    "gb.feature_importances_"
   ]
  },
  {
   "cell_type": "code",
   "execution_count": null,
   "metadata": {
    "collapsed": false
   },
   "outputs": [],
   "source": [
    "lr.coef_"
   ]
  },
  {
   "cell_type": "code",
   "execution_count": null,
   "metadata": {
    "collapsed": false
   },
   "outputs": [],
   "source": [
    "dt.feature_importances_"
   ]
  },
  {
   "cell_type": "code",
   "execution_count": null,
   "metadata": {
    "collapsed": false
   },
   "outputs": [],
   "source": [
    "rf.feature_importances_"
   ]
  },
  {
   "cell_type": "code",
   "execution_count": null,
   "metadata": {
    "collapsed": false
   },
   "outputs": [],
   "source": [
    "sv.coef_"
   ]
  },
  {
   "cell_type": "code",
   "execution_count": null,
   "metadata": {
    "collapsed": false
   },
   "outputs": [],
   "source": []
  }
 ],
 "metadata": {
  "kernelspec": {
   "display_name": "Python 2",
   "language": "python",
   "name": "python2"
  },
  "language_info": {
   "codemirror_mode": {
    "name": "ipython",
    "version": 2
   },
   "file_extension": ".py",
   "mimetype": "text/x-python",
   "name": "python",
   "nbconvert_exporter": "python",
   "pygments_lexer": "ipython2",
   "version": "2.7.12"
  }
 },
 "nbformat": 4,
 "nbformat_minor": 0
}
