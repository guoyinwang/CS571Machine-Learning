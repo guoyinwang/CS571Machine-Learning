{
 "cells": [
  {
   "cell_type": "code",
   "execution_count": 2,
   "metadata": {
    "collapsed": true
   },
   "outputs": [],
   "source": [
    "import numpy as np\n",
    "import pandas as pd"
   ]
  },
  {
   "cell_type": "code",
   "execution_count": 3,
   "metadata": {
    "collapsed": true
   },
   "outputs": [],
   "source": [
    "P1_data = pd.read_csv('dataset.csv')"
   ]
  },
  {
   "cell_type": "code",
   "execution_count": 4,
   "metadata": {
    "collapsed": false
   },
   "outputs": [
    {
     "data": {
      "text/html": [
       "<div>\n",
       "<table border=\"1\" class=\"dataframe\">\n",
       "  <thead>\n",
       "    <tr style=\"text-align: right;\">\n",
       "      <th></th>\n",
       "      <th>age</th>\n",
       "      <th>course</th>\n",
       "      <th>likeStats</th>\n",
       "      <th>y</th>\n",
       "    </tr>\n",
       "  </thead>\n",
       "  <tbody>\n",
       "    <tr>\n",
       "      <th>0</th>\n",
       "      <td>20</td>\n",
       "      <td>1</td>\n",
       "      <td>0</td>\n",
       "      <td>0</td>\n",
       "    </tr>\n",
       "    <tr>\n",
       "      <th>1</th>\n",
       "      <td>18</td>\n",
       "      <td>1</td>\n",
       "      <td>1</td>\n",
       "      <td>1</td>\n",
       "    </tr>\n",
       "    <tr>\n",
       "      <th>2</th>\n",
       "      <td>15</td>\n",
       "      <td>0</td>\n",
       "      <td>1</td>\n",
       "      <td>1</td>\n",
       "    </tr>\n",
       "    <tr>\n",
       "      <th>3</th>\n",
       "      <td>16</td>\n",
       "      <td>0</td>\n",
       "      <td>0</td>\n",
       "      <td>1</td>\n",
       "    </tr>\n",
       "    <tr>\n",
       "      <th>4</th>\n",
       "      <td>17</td>\n",
       "      <td>1</td>\n",
       "      <td>1</td>\n",
       "      <td>1</td>\n",
       "    </tr>\n",
       "    <tr>\n",
       "      <th>5</th>\n",
       "      <td>21</td>\n",
       "      <td>1</td>\n",
       "      <td>0</td>\n",
       "      <td>0</td>\n",
       "    </tr>\n",
       "    <tr>\n",
       "      <th>6</th>\n",
       "      <td>23</td>\n",
       "      <td>1</td>\n",
       "      <td>0</td>\n",
       "      <td>0</td>\n",
       "    </tr>\n",
       "    <tr>\n",
       "      <th>7</th>\n",
       "      <td>15</td>\n",
       "      <td>1</td>\n",
       "      <td>1</td>\n",
       "      <td>0</td>\n",
       "    </tr>\n",
       "    <tr>\n",
       "      <th>8</th>\n",
       "      <td>17</td>\n",
       "      <td>0</td>\n",
       "      <td>1</td>\n",
       "      <td>1</td>\n",
       "    </tr>\n",
       "    <tr>\n",
       "      <th>9</th>\n",
       "      <td>17</td>\n",
       "      <td>1</td>\n",
       "      <td>0</td>\n",
       "      <td>0</td>\n",
       "    </tr>\n",
       "  </tbody>\n",
       "</table>\n",
       "</div>"
      ],
      "text/plain": [
       "   age  course  likeStats  y\n",
       "0   20       1          0  0\n",
       "1   18       1          1  1\n",
       "2   15       0          1  1\n",
       "3   16       0          0  1\n",
       "4   17       1          1  1\n",
       "5   21       1          0  0\n",
       "6   23       1          0  0\n",
       "7   15       1          1  0\n",
       "8   17       0          1  1\n",
       "9   17       1          0  0"
      ]
     },
     "execution_count": 4,
     "metadata": {},
     "output_type": "execute_result"
    }
   ],
   "source": [
    "P1_data"
   ]
  },
  {
   "cell_type": "code",
   "execution_count": 5,
   "metadata": {
    "collapsed": true
   },
   "outputs": [],
   "source": [
    "theta = np.array([0.05, -3, 2.5])\n",
    "theta0 = 0.3"
   ]
  },
  {
   "cell_type": "code",
   "execution_count": 6,
   "metadata": {
    "collapsed": false
   },
   "outputs": [],
   "source": [
    "features = list(P1_data.columns)[:-1]"
   ]
  },
  {
   "cell_type": "code",
   "execution_count": 7,
   "metadata": {
    "collapsed": true
   },
   "outputs": [],
   "source": [
    "P1_linear = P1_data.copy()\n",
    "P1_sigmod = P1_data.copy()"
   ]
  },
  {
   "cell_type": "code",
   "execution_count": 8,
   "metadata": {
    "collapsed": true
   },
   "outputs": [],
   "source": [
    "P1_linear['result'] = P1_linear.apply(lambda x: np.dot(x[features], theta) + theta0, axis=1)"
   ]
  },
  {
   "cell_type": "code",
   "execution_count": 9,
   "metadata": {
    "collapsed": false
   },
   "outputs": [],
   "source": [
    "P1_sigmod['result'] = P1_sigmod.apply(lambda x: 1 / (1 + np.exp(-np.dot(x[features], theta) - theta0)), axis = 1)"
   ]
  },
  {
   "cell_type": "code",
   "execution_count": 10,
   "metadata": {
    "collapsed": false
   },
   "outputs": [],
   "source": [
    "def evaluate_higher(data, threshold):\n",
    "    data_copy = data.copy()\n",
    "    data_copy['predict'] = data_copy['result'].apply(lambda x: 1 if x >= threshold else 0)\n",
    "    data_copy['correct'] = data_copy.apply(lambda x: 1 if x['predict'] == x['y'] else 0, axis = 1)\n",
    "    return sum(data_copy['correct'])\n",
    "    "
   ]
  },
  {
   "cell_type": "code",
   "execution_count": 11,
   "metadata": {
    "collapsed": false
   },
   "outputs": [],
   "source": [
    "def evaluate_lower(data, threshold):\n",
    "    data_copy = data.copy()\n",
    "    data_copy['predict'] = data_copy['result'].apply(lambda x: 0 if x <= threshold else 1)\n",
    "    data_copy['correct'] = data_copy.apply(lambda x: 1 if x['predict'] == x['y'] else 0, axis = 1)\n",
    "    return sum(data_copy['correct'])"
   ]
  },
  {
   "cell_type": "code",
   "execution_count": 12,
   "metadata": {
    "collapsed": false
   },
   "outputs": [],
   "source": [
    "def search_threshold(data):\n",
    "    top_correct = 0\n",
    "    top_correct_threshold_high = []\n",
    "    top_correct_threshold_low = []\n",
    "    for index, item in data.iterrows():\n",
    "        correct = evaluate_higher(data, item['result'])\n",
    "        if correct > top_correct:\n",
    "            top_correct = correct\n",
    "            top_correct_threshold_high = [item['result']]\n",
    "        elif correct == top_correct:\n",
    "            top_correct_threshold_high.append(item['result'])\n",
    "    top_correct = 0\n",
    "    for index, item in data.iterrows():\n",
    "        correct = evaluate_lower(data, item['result'])\n",
    "        if correct > top_correct:\n",
    "            top_correct = correct\n",
    "            top_correct_threshold_low = [item['result']]\n",
    "        elif correct == top_correct:\n",
    "            top_correct_threshold_low.append(item['result'])        \n",
    "                \n",
    "    return top_correct, top_correct_threshold_high, top_correct_threshold_low    "
   ]
  },
  {
   "cell_type": "code",
   "execution_count": 13,
   "metadata": {
    "collapsed": false
   },
   "outputs": [
    {
     "data": {
      "text/plain": [
       "(10, [0.65000000000000013], [0.55000000000000004])"
      ]
     },
     "execution_count": 13,
     "metadata": {},
     "output_type": "execute_result"
    }
   ],
   "source": [
    "search_threshold(P1_linear)"
   ]
  },
  {
   "cell_type": "code",
   "execution_count": 14,
   "metadata": {
    "collapsed": true
   },
   "outputs": [],
   "source": [
    "def evaluate_matrix(data, threshold):\n",
    "    data_copy = data.copy()\n",
    "    data_copy['predict'] = data_copy['result'].apply(lambda x: 0 if x <= threshold else 1)\n",
    "    matrix_frame = {'True' : pd.Series([0, 0], index= ['True', 'False']),\n",
    "                    'False' : pd.Series([0, 0], index= ['True', 'False'])}\n",
    "    confusion_table = pd.DataFrame(matrix_frame)\n",
    "    for index, item in data_copy.iterrows():\n",
    "        if item['predict'] == item['y']:\n",
    "            if item['y'] == 1:\n",
    "                confusion_table['True']['True'] += 1\n",
    "            else:\n",
    "                confusion_table['False']['False'] += 1\n",
    "        else:\n",
    "            if item['y'] == 0:\n",
    "                confusion_table['True']['False'] += 1\n",
    "            else:\n",
    "                confusion_table['False']['True'] += 1\n",
    "    return confusion_table              \n",
    "                    \n",
    "            "
   ]
  },
  {
   "cell_type": "code",
   "execution_count": 50,
   "metadata": {
    "collapsed": false
   },
   "outputs": [
    {
     "name": "stdout",
     "output_type": "stream",
     "text": [
      "       False  True\n",
      "True       0     5\n",
      "False      5     0\n"
     ]
    }
   ],
   "source": [
    "P1_linear_confusion = evaluate_matrix(P1_linear, 0.55)\n",
    "print P1_linear_confusion"
   ]
  },
  {
   "cell_type": "code",
   "execution_count": 16,
   "metadata": {
    "collapsed": false
   },
   "outputs": [
    {
     "data": {
      "text/plain": [
       "(10, [0.65701046267349883], [0.63413559101080075])"
      ]
     },
     "execution_count": 16,
     "metadata": {},
     "output_type": "execute_result"
    }
   ],
   "source": [
    "search_threshold(P1_sigmod)"
   ]
  },
  {
   "cell_type": "code",
   "execution_count": 17,
   "metadata": {
    "collapsed": false
   },
   "outputs": [
    {
     "name": "stdout",
     "output_type": "stream",
     "text": [
      "       False  True\n",
      "True       0     5\n",
      "False      5     0\n"
     ]
    }
   ],
   "source": [
    "P1_sigmod_confusion = evaluate_matrix(P1_sigmod, 0.64)\n",
    "print P1_sigmod_confusion"
   ]
  },
  {
   "cell_type": "code",
   "execution_count": 18,
   "metadata": {
    "collapsed": false
   },
   "outputs": [
    {
     "name": "stdout",
     "output_type": "stream",
     "text": [
      "1.0\n"
     ]
    }
   ],
   "source": [
    "P1_sigmod_percision = P1_sigmod_confusion['True']['True'] / float(sum(P1_sigmod_confusion['True']))\n",
    "print P1_sigmod_percision"
   ]
  },
  {
   "cell_type": "code",
   "execution_count": 19,
   "metadata": {
    "collapsed": false
   },
   "outputs": [
    {
     "name": "stdout",
     "output_type": "stream",
     "text": [
      "1.0\n"
     ]
    }
   ],
   "source": [
    "P1_sigmod_recall = P1_sigmod_confusion['True']['True'] / float(sum(P1_sigmod_confusion.T['True']))\n",
    "print P1_sigmod_recall"
   ]
  },
  {
   "cell_type": "code",
   "execution_count": 20,
   "metadata": {
    "collapsed": false
   },
   "outputs": [
    {
     "name": "stdout",
     "output_type": "stream",
     "text": [
      "1.0\n"
     ]
    }
   ],
   "source": [
    "P1_sigmod_F1 = 2 * (P1_sigmod_percision * P1_sigmod_recall) / float(P1_sigmod_percision + P1_sigmod_recall)\n",
    "print P1_sigmod_F1"
   ]
  },
  {
   "cell_type": "code",
   "execution_count": 53,
   "metadata": {
    "collapsed": true
   },
   "outputs": [],
   "source": [
    "%matplotlib inline\n",
    "import matplotlib.pylab as plt\n",
    "import matplotlib"
   ]
  },
  {
   "cell_type": "code",
   "execution_count": 75,
   "metadata": {
    "collapsed": false
   },
   "outputs": [],
   "source": [
    "#ROC\n",
    "def ROC(data, n_points):\n",
    "    threshold_lowerbond = min(data['result']) - 1\n",
    "    threshold_higherbond = max(data['result']) + 1\n",
    "    threshold = np.linspace(threshold_higherbond, threshold_lowerbond, n_points)\n",
    "    positive_num = sum(data['y'])\n",
    "    negative_num = len(data['y']) - positive_num\n",
    "    TPR = []\n",
    "    FPR = []\n",
    "    for i, ithreshold in enumerate(threshold):\n",
    "        confusion_matrix = evaluate_matrix(data, ithreshold)\n",
    "        TPR.append(confusion_matrix['True']['True'] / float(positive_num))\n",
    "        FPR.append(confusion_matrix['True']['False'] / float(negative_num))\n",
    "#         print confusion_matrix, ithreshold\n",
    "    PR_total = sorted(zip(FPR, TPR))\n",
    "    TPR = [x[1] for x in PR_total]\n",
    "    FPR = [x[0] for x in PR_total]\n",
    "#     fig, ax = plt.subplot(111)\n",
    "#     plt.scatter(FPR,TPR)  \n",
    "    plt.plot(FPR,TPR, '-o')\n",
    "    plt.xlim(-0.2,1.2)\n",
    "    plt.ylim(-0.2,1.2)\n",
    "    plt.show()\n",
    "#     from matplotlib.backends.backend_pdf import PdfPages\n",
    "#     pp = PdfPages('ROC.pdf')\n",
    "#     plt.savefig(pp, format = 'pdf')\n",
    "#     pp.close\n",
    "   \n",
    "    return TPR,FPR    \n",
    "        \n",
    "        \n",
    "    \n",
    "    "
   ]
  },
  {
   "cell_type": "code",
   "execution_count": 76,
   "metadata": {
    "collapsed": false
   },
   "outputs": [
    {
     "data": {
      "image/png": "[encoded data removed]",
      "text/plain": [
       "<matplotlib.figure.Figure at 0x1074cb910>"
      ]
     },
     "metadata": {},
     "output_type": "display_data"
    }
   ],
   "source": [
    "TPR, FPR = ROC(P1_linear, 360)"
   ]
  },
  {
   "cell_type": "code",
   "execution_count": 24,
   "metadata": {
    "collapsed": false
   },
   "outputs": [
    {
     "name": "stdout",
     "output_type": "stream",
     "text": [
      "0.4\n"
     ]
    }
   ],
   "source": [
    "#AUC\n",
    "TPR_array = np.array(TPR)\n",
    "FPR_array = np.array(FPR)\n",
    "area = np.dot((FPR_array[1:] - FPR_array[:-1]),TPR[1:])\n",
    "print area"
   ]
  },
  {
   "cell_type": "code",
   "execution_count": 48,
   "metadata": {
    "collapsed": true
   },
   "outputs": [],
   "source": [
    "def entropy(p, q):\n",
    "    if p == 0 or q == 0:\n",
    "        return 0\n",
    "    return -p*np.log2(p) - q * np.log2(q)"
   ]
  },
  {
   "cell_type": "code",
   "execution_count": 49,
   "metadata": {
    "collapsed": false
   },
   "outputs": [
    {
     "name": "stdout",
     "output_type": "stream",
     "text": [
      "0.609986547011\n",
      "0.0290494055453\n",
      "0.124511249784\n"
     ]
    }
   ],
   "source": [
    "#x1\n",
    "x1_gain = entropy(0.5,0.5) - 0.4 * entropy(0,1) - 0.6 * entropy(5/float(6), 1/float(6))\n",
    "print x1_gain\n",
    "x2_gain = entropy(0.5,0.5) - 0.5 * entropy(0.6,0.4) - 0.5 * entropy(0.4, 0.6)\n",
    "print x2_gain\n",
    "x3_gain = entropy(0.5,0.5) - 0.6 * entropy(4/float(6),2/float(6)) - 0.4 * entropy(0.25, 0.75)\n",
    "print x3_gain"
   ]
  },
  {
   "cell_type": "code",
   "execution_count": null,
   "metadata": {
    "collapsed": true
   },
   "outputs": [],
   "source": []
  }
 ],
 "metadata": {
  "kernelspec": {
   "display_name": "Python 2",
   "language": "python",
   "name": "python2"
  },
  "language_info": {
   "codemirror_mode": {
    "name": "ipython",
    "version": 2
   },
   "file_extension": ".py",
   "mimetype": "text/x-python",
   "name": "python",
   "nbconvert_exporter": "python",
   "pygments_lexer": "ipython2",
   "version": "2.7.11"
  }
 },
 "nbformat": 4,
 "nbformat_minor": 0
}
