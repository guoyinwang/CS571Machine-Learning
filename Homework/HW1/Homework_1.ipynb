{
 "cells": [
  {
   "cell_type": "code",
   "execution_count": 1,
   "metadata": {
    "collapsed": true
   },
   "outputs": [],
   "source": [
    "import numpy as np\n",
    "import pandas as pd"
   ]
  },
  {
   "cell_type": "code",
   "execution_count": 2,
   "metadata": {
    "collapsed": false
   },
   "outputs": [],
   "source": [
    "train_x = pd.read_table('mnist/mnist_train.txt', header = None, dtype = int, sep=\" \")\n",
    "train_y = pd.read_table('mnist/mnist_train_labels.txt', header = None, dtype = int, sep=\" \")\n",
    "test_x = pd.read_table('mnist/mnist_test.txt', header = None, dtype = int, sep=\" \")\n",
    "test_y = pd.read_table('mnist/mnist_test_labels.txt', header = None, dtype = int, sep=\" \")"
   ]
  },
  {
   "cell_type": "code",
   "execution_count": 3,
   "metadata": {
    "collapsed": false
   },
   "outputs": [],
   "source": [
    "train_x['label'] = train_y\n",
    "test_x['label'] = test_y"
   ]
  },
  {
   "cell_type": "code",
   "execution_count": 4,
   "metadata": {
    "collapsed": false
   },
   "outputs": [],
   "source": [
    "train_x = train_x[train_x['label'].isin([0,1])]\n",
    "test_x = test_x[test_x['label'].isin([0,1])]"
   ]
  },
  {
   "cell_type": "code",
   "execution_count": 5,
   "metadata": {
    "collapsed": false
   },
   "outputs": [],
   "source": [
    "train_x['label'] = train_x['label'].apply(lambda x: -1 if x == 0 else x)\n",
    "test_x['label'] = test_x['label'].apply(lambda x: -1 if x ==0 else x)"
   ]
  },
  {
   "cell_type": "code",
   "execution_count": 6,
   "metadata": {
    "collapsed": false
   },
   "outputs": [],
   "source": [
    "train_x_mat = train_x.drop('label',axis = 1).as_matrix()\n",
    "train_y_vec = train_x['label'].as_matrix()\n",
    "test_x_mat = test_x.drop('label', axis = 1).as_matrix()\n",
    "test_y_mat = test_x['label'].as_matrix()"
   ]
  },
  {
   "cell_type": "code",
   "execution_count": 7,
   "metadata": {
    "collapsed": true
   },
   "outputs": [],
   "source": [
    "def mistake_locate(data, data_label, w):\n",
    "    \n",
    "    for i in range(data_label.shape[0]):\n",
    "        if data_label[i] * np.dot(w,data[i]) <= 0:\n",
    "            return i\n",
    "    return -1 # stop sign -1\n",
    "        "
   ]
  },
  {
   "cell_type": "code",
   "execution_count": 8,
   "metadata": {
    "collapsed": false
   },
   "outputs": [],
   "source": [
    "def perceptron(data, data_label, max_iteration = 1e8):\n",
    "    size = data_label.size\n",
    "    dim = data.shape[1]\n",
    "    print \"size is {}\".format(size)\n",
    "    print \"dim is {}\".format(dim)\n",
    "    w = np.zeros((dim,))\n",
    "    t = 0\n",
    "    \n",
    "    while t < max_iteration:\n",
    "        mistake = mistake_locate(data, data_label, w)\n",
    "        print \"mistake is {}\".format(mistake)\n",
    "        if mistake < 0 :\n",
    "            print \"total interation number is {}\".format(t)\n",
    "            return w\n",
    "        else :\n",
    "            t += 1\n",
    "            w += data_label[mistake] * data[mistake]\n",
    "            \n",
    "    print \"exceed max iteration\"\n",
    "    return -1\n",
    "    \n"
   ]
  },
  {
   "cell_type": "code",
   "execution_count": 9,
   "metadata": {
    "collapsed": true
   },
   "outputs": [
    {
     "name": "stdout",
     "output_type": "stream",
     "text": [
      "size is 12665\n",
      "dim is 784\n",
      "mistake is 0\n",
      "mistake is 1\n",
      "mistake is 2\n",
      "mistake is 163\n",
      "mistake is 7\n",
      "mistake is 56\n",
      "mistake is 14\n",
      "mistake is 109\n",
      "mistake is 314\n",
      "mistake is 7\n",
      "mistake is 250\n",
      "mistake is 314\n",
      "mistake is 118\n",
      "mistake is 1625\n",
      "mistake is 65\n",
      "mistake is 314\n",
      "mistake is 18\n",
      "mistake is 1082\n",
      "mistake is 291\n",
      "mistake is 268\n",
      "mistake is 314\n",
      "mistake is 268\n",
      "mistake is 314\n",
      "mistake is 838\n",
      "mistake is 136\n",
      "mistake is 1230\n",
      "mistake is 1730\n",
      "mistake is 321\n",
      "mistake is 1806\n",
      "mistake is 109\n",
      "mistake is 2307\n",
      "mistake is 2823\n",
      "mistake is 61\n",
      "mistake is 314\n",
      "mistake is 1082\n",
      "mistake is 3578\n",
      "mistake is 1449\n",
      "mistake is 199\n",
      "mistake is 2823\n",
      "mistake is 314\n",
      "mistake is 1608\n",
      "mistake is 3202\n",
      "mistake is 314\n",
      "mistake is 2333\n",
      "mistake is 1806\n",
      "mistake is 2175\n",
      "mistake is 1086\n",
      "mistake is 2499\n",
      "mistake is 2172\n",
      "mistake is 1230\n",
      "mistake is 2703\n",
      "mistake is 2578\n",
      "mistake is 4308\n",
      "mistake is 2823\n",
      "mistake is 4495\n",
      "mistake is 271\n",
      "mistake is 4495\n",
      "mistake is 838\n",
      "mistake is 4611\n",
      "mistake is 2703\n",
      "mistake is 3202\n",
      "mistake is 4308\n",
      "mistake is 4611\n",
      "mistake is 3419\n",
      "mistake is 2499\n",
      "mistake is 4495\n",
      "mistake is 288\n",
      "mistake is 4495\n",
      "mistake is 1449\n",
      "mistake is 1129\n",
      "mistake is 2175\n",
      "mistake is 4293\n",
      "mistake is 3896\n",
      "mistake is 4495\n",
      "mistake is 1449\n",
      "mistake is 2172\n",
      "mistake is 4611\n",
      "mistake is 4611\n",
      "mistake is 249\n",
      "mistake is 5342\n",
      "mistake is 1082\n",
      "mistake is 2307\n",
      "mistake is 4495\n",
      "mistake is 1315\n",
      "mistake is 4611\n",
      "mistake is 1086\n",
      "mistake is 3202\n",
      "mistake is 2703\n",
      "mistake is 4611\n",
      "mistake is 5342\n",
      "mistake is 1230\n",
      "mistake is 5087\n",
      "mistake is 2823\n",
      "mistake is 1806\n",
      "mistake is 2499\n",
      "mistake is 5613\n",
      "mistake is 314\n",
      "mistake is 3202\n",
      "mistake is 5342\n",
      "mistake is 2726\n",
      "mistake is 5615\n",
      "mistake is 1449\n",
      "mistake is 1075\n",
      "mistake is 4495\n",
      "mistake is 2181\n",
      "mistake is 5615\n",
      "mistake is 2307\n",
      "mistake is 6030\n",
      "mistake is 271\n",
      "mistake is 5682\n",
      "mistake is 1449\n",
      "mistake is 314\n",
      "mistake is 2823\n",
      "mistake is 6030\n",
      "mistake is 1315\n",
      "mistake is 4919\n",
      "mistake is 4495\n",
      "mistake is 3202\n",
      "mistake is 6030\n",
      "mistake is 282\n",
      "mistake is 6409\n",
      "mistake is 1449\n",
      "mistake is 3578\n",
      "mistake is 4611\n",
      "mistake is 4495\n",
      "mistake is 3094\n",
      "mistake is 6030\n",
      "mistake is 56\n",
      "mistake is 4919\n",
      "mistake is 6030\n",
      "mistake is 2175\n",
      "mistake is 4495\n",
      "mistake is 3623\n",
      "mistake is 6409\n",
      "mistake is 2499\n",
      "mistake is 6626\n",
      "mistake is 6329\n",
      "mistake is 4611\n",
      "mistake is 6750\n",
      "mistake is 1129\n",
      "mistake is 1963\n",
      "mistake is 6750\n",
      "mistake is 5342\n",
      "mistake is 4697\n",
      "mistake is 5682\n",
      "mistake is 2602\n",
      "mistake is 6750\n",
      "mistake is 4293\n",
      "mistake is 4611\n",
      "mistake is 6949\n",
      "mistake is 4495\n",
      "mistake is 3202\n",
      "mistake is 7855\n",
      "mistake is 314\n",
      "mistake is 6626\n",
      "mistake is 8110\n",
      "mistake is 6750\n",
      "mistake is 6949\n",
      "mistake is 6030\n",
      "mistake is 2823\n",
      "mistake is 7107\n",
      "mistake is 249\n",
      "mistake is 6409\n",
      "mistake is 1449\n",
      "mistake is 6030\n",
      "mistake is 3202\n",
      "mistake is 4919\n",
      "mistake is 314\n",
      "mistake is 4611\n",
      "mistake is 8184\n",
      "mistake is 250\n",
      "mistake is 7855\n",
      "mistake is 5957\n",
      "mistake is 8184\n",
      "mistake is 268\n",
      "mistake is 7107\n",
      "mistake is 1431\n",
      "mistake is 7998\n",
      "mistake is 314\n",
      "mistake is 6235\n",
      "mistake is 4495\n",
      "mistake is 3202\n",
      "mistake is 6409\n",
      "mistake is 2823\n",
      "mistake is 8184\n",
      "mistake is 268\n",
      "mistake is 7107\n",
      "mistake is 4495\n",
      "mistake is 8546\n",
      "mistake is 1449\n",
      "mistake is 6667\n",
      "mistake is 2175\n",
      "mistake is 6409\n",
      "mistake is 4611\n",
      "mistake is 8184\n",
      "mistake is 250\n",
      "mistake is 6626\n",
      "mistake is 8391\n",
      "mistake is 3202\n",
      "mistake is 9326\n",
      "mistake is 6389\n",
      "mistake is 3623\n",
      "mistake is 8184\n",
      "mistake is 2187\n",
      "mistake is 8184\n",
      "mistake is 1230\n",
      "mistake is 9326\n",
      "mistake is 8110\n",
      "mistake is 6750\n",
      "mistake is 7855\n",
      "mistake is 3621\n",
      "mistake is 7998\n",
      "mistake is 8184\n",
      "mistake is 2200\n",
      "mistake is 8391\n",
      "mistake is 4611\n",
      "mistake is 9326\n",
      "mistake is 6667\n",
      "mistake is 5613\n",
      "mistake is 8024\n",
      "mistake is 249\n",
      "mistake is 8546\n",
      "mistake is 3623\n",
      "mistake is 9656\n",
      "mistake is 5087\n",
      "mistake is 10633\n",
      "mistake is 5342\n",
      "mistake is 6235\n",
      "mistake is 6030\n",
      "mistake is 9326\n",
      "mistake is 10029\n",
      "mistake is 8024\n",
      "mistake is 6667\n",
      "mistake is 4611\n",
      "mistake is 10633\n",
      "mistake is 6030\n",
      "mistake is 6235\n",
      "mistake is 8391\n",
      "mistake is 7855\n",
      "mistake is 10586\n",
      "mistake is 1608\n",
      "mistake is 8024\n",
      "mistake is 8184\n",
      "mistake is 3623\n",
      "mistake is 9326\n",
      "mistake is 8184\n",
      "mistake is 56\n",
      "mistake is 9656\n",
      "mistake is 2682\n",
      "mistake is 10633\n",
      "mistake is 8546\n",
      "mistake is 7107\n",
      "mistake is 4495\n",
      "mistake is 7998\n",
      "mistake is 6409\n",
      "mistake is 3094\n",
      "mistake is 9326\n",
      "mistake is 8391\n",
      "mistake is 10048\n",
      "mistake is 12322\n",
      "mistake is 1449\n",
      "mistake is 9912\n",
      "mistake is 2307\n",
      "mistake is 4611\n",
      "mistake is 10633\n",
      "mistake is 249\n",
      "mistake is -1\n",
      "total interation number is 266\n"
     ]
    }
   ],
   "source": [
    "w = perceptron(train_x_mat, train_y_vec)"
   ]
  },
  {
   "cell_type": "code",
   "execution_count": 10,
   "metadata": {
    "collapsed": false
   },
   "outputs": [],
   "source": [
    "def evaluate(data, data_label, w):\n",
    "    predict = np.dot(w, data.T)\n",
    "    product = np.multiply(data_label, predict)\n",
    "    correct = sum(product > 0)\n",
    "    return correct / float(data_label.shape[0])\n",
    "    \n",
    "    "
   ]
  },
  {
   "cell_type": "code",
   "execution_count": 11,
   "metadata": {
    "collapsed": false
   },
   "outputs": [
    {
     "data": {
      "text/plain": [
       "0.99858156028368794"
      ]
     },
     "execution_count": 11,
     "metadata": {},
     "output_type": "execute_result"
    }
   ],
   "source": [
    "evaluate(test_x_mat, test_y_mat, w)"
   ]
  },
  {
   "cell_type": "code",
   "execution_count": 12,
   "metadata": {
    "collapsed": false
   },
   "outputs": [
    {
     "data": {
      "text/plain": [
       "784"
      ]
     },
     "execution_count": 12,
     "metadata": {},
     "output_type": "execute_result"
    }
   ],
   "source": [
    "len(w)"
   ]
  },
  {
   "cell_type": "code",
   "execution_count": 13,
   "metadata": {
    "collapsed": true
   },
   "outputs": [],
   "source": [
    "w_reduce = w[w != 0]"
   ]
  },
  {
   "cell_type": "code",
   "execution_count": 14,
   "metadata": {
    "collapsed": false
   },
   "outputs": [
    {
     "data": {
      "text/plain": [
       "471"
      ]
     },
     "execution_count": 14,
     "metadata": {},
     "output_type": "execute_result"
    }
   ],
   "source": [
    "len(w_reduce)"
   ]
  },
  {
   "cell_type": "code",
   "execution_count": 48,
   "metadata": {
    "collapsed": false
   },
   "outputs": [],
   "source": [
    "bar = 2e3\n",
    "w_test = pd.DataFrame(w)\n",
    "w_test[0] = w_test[0].apply(lambda x: 0 if abs(x) <= bar else x)"
   ]
  },
  {
   "cell_type": "code",
   "execution_count": 49,
   "metadata": {
    "collapsed": false
   },
   "outputs": [
    {
     "data": {
      "text/plain": [
       "0.98061465721040186"
      ]
     },
     "execution_count": 49,
     "metadata": {},
     "output_type": "execute_result"
    }
   ],
   "source": [
    "evaluate(test_x_mat, test_y_mat, w_test.values[:,0])"
   ]
  },
  {
   "cell_type": "code",
   "execution_count": 50,
   "metadata": {
    "collapsed": false
   },
   "outputs": [
    {
     "data": {
      "text/plain": [
       "15"
      ]
     },
     "execution_count": 50,
     "metadata": {},
     "output_type": "execute_result"
    }
   ],
   "source": [
    "len(w_test[w_test[0]!=0])"
   ]
  },
  {
   "cell_type": "code",
   "execution_count": null,
   "metadata": {
    "collapsed": true
   },
   "outputs": [],
   "source": []
  }
 ],
 "metadata": {
  "kernelspec": {
   "display_name": "Python 2",
   "language": "python",
   "name": "python2"
  },
  "language_info": {
   "codemirror_mode": {
    "name": "ipython",
    "version": 2
   },
   "file_extension": ".py",
   "mimetype": "text/x-python",
   "name": "python",
   "nbconvert_exporter": "python",
   "pygments_lexer": "ipython2",
   "version": "2.7.11"
  }
 },
 "nbformat": 4,
 "nbformat_minor": 0
}
